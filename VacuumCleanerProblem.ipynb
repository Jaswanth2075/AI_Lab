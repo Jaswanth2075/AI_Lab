{
 "cells": [
  {
   "cell_type": "code",
   "execution_count": 1,
   "id": "b98cf855",
   "metadata": {},
   "outputs": [
    {
     "name": "stdout",
     "output_type": "stream",
     "text": [
      "enter the position of the vacuumleft\n",
      "Rooms cleaned\n",
      "[('dirty', 'dirty', 'left'), ('clean', 'dirty', 'left'), ('clean', 'dirty', 'right'), ('clean', 'clean', 'right')]\n"
     ]
    }
   ],
   "source": [
    "class cleanroom:\n",
    "    def __init__(self , lroom , rroom , pos):\n",
    "        self.lroom=lroom\n",
    "        self.rroom=rroom\n",
    "        self.pos=pos \n",
    "    def newstate(self , frontier, curr_path , a,b,c):\n",
    "        frontier.append((a,b,c,curr_path))\n",
    "    def lsuck(self , frontier , curr_path ,a,b,c):\n",
    "        self.newstate(frontier , curr_path, \"clean\" , b, \"left\")\n",
    "    def rsuck(self , frontier , curr_path , a,b,c):\n",
    "        self.newstate(frontier , curr_path , a , \"clean\" , \"right\")\n",
    "    def lmove(self , frontier , curr_path , a ,b , c):\n",
    "        self.newstate(frontier , curr_path , a , b , \"left\")\n",
    "    def rmove(self , frontier , curr_path , a ,b ,c):\n",
    "        self.newstate(frontier , curr_path , a ,b ,\"right\")\n",
    "        \n",
    "    def clean(self):\n",
    "        explored=set()\n",
    "        frontier=[(self.lroom,self.rroom,self.pos,[])]\n",
    "        while frontier:\n",
    "            a,b,c,path = frontier.pop(0)\n",
    "            if a==\"clean\" and b==\"clean\":\n",
    "                print(\"Rooms cleaned\")\n",
    "                print(path+[(a,b,c)])\n",
    "                return\n",
    "            if (a,b,c) not in explored and (a,b,c,path) not in frontier:\n",
    "                explored.add((a,b,c))\n",
    "                curr_path = path + [(a,b,c)]\n",
    "                if c==\"left\":\n",
    "                    self.lsuck(frontier ,curr_path , a,b,c )\n",
    "                    self.rmove(frontier ,curr_path , a,b,c)\n",
    "                if c==\"right\":\n",
    "                    self.rsuck(frontier,curr_path,a,b,c)\n",
    "                    self.lmove(frontier , curr_path ,a,b,c)\n",
    "                    \n",
    "lroom=\"dirty\"\n",
    "rroom=\"dirty\"\n",
    "pos=input(\"enter the position of the vacuum\")\n",
    "cleanroom(lroom , rroom , pos).clean()\n"
   ]
  },
  {
   "cell_type": "code",
   "execution_count": null,
   "id": "1d8a9deb",
   "metadata": {},
   "outputs": [],
   "source": []
  }
 ],
 "metadata": {
  "kernelspec": {
   "display_name": "Python 3 (ipykernel)",
   "language": "python",
   "name": "python3"
  },
  "language_info": {
   "codemirror_mode": {
    "name": "ipython",
    "version": 3
   },
   "file_extension": ".py",
   "mimetype": "text/x-python",
   "name": "python",
   "nbconvert_exporter": "python",
   "pygments_lexer": "ipython3",
   "version": "3.9.7"
  }
 },
 "nbformat": 4,
 "nbformat_minor": 5
}
