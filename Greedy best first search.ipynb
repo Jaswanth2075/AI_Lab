{
 "cells": [
  {
   "cell_type": "code",
   "execution_count": 74,
   "id": "1164832e",
   "metadata": {},
   "outputs": [],
   "source": [
    "graph={'0':{('1',36),('2',37),('3',32)}\n",
    "       ,'1':{('4',38),('5',25)}\n",
    "       ,'2':{('6',24)}\n",
    "       ,'3':{('7',17),('8',19)}\n",
    "       ,'4':{},\n",
    "         '5':{},\n",
    "       '6':{},\n",
    "       '8':{},\n",
    "       '7':{('9',16)}}\n",
    "h={'0':20,'1':22,'2':21,'3':10,'4':25,'5':24,'6':30,'7':5,'8':12,'9':0}"
   ]
  },
  {
   "cell_type": "code",
   "execution_count": 63,
   "id": "45382d03",
   "metadata": {},
   "outputs": [],
   "source": [
    "def Neighbours(graph,node):\n",
    "    l=[]\n",
    "    for neighbour in graph[node]:\n",
    "        l.append(neighbour[0])\n",
    "    return l"
   ]
  },
  {
   "cell_type": "code",
   "execution_count": 75,
   "id": "87f6c07b",
   "metadata": {},
   "outputs": [
    {
     "name": "stdout",
     "output_type": "stream",
     "text": [
      "At step 1 :\n",
      "Frontier is : ['3']\n",
      "Explored is : {'3'}\n",
      "At step 2 :\n",
      "Frontier is : ['7']\n",
      "Explored is : {'3', '7'}\n",
      "At step 3 :\n",
      "Frontier is : ['9']\n",
      "Explored is : {'9', '3', '7'}\n",
      "Goal found\n"
     ]
    },
    {
     "data": {
      "text/plain": [
       "['0', '3', '7', '9']"
      ]
     },
     "execution_count": 75,
     "metadata": {},
     "output_type": "execute_result"
    }
   ],
   "source": [
    "\n",
    "def Gfs(initial,goal,graph,h):\n",
    "    frontier,path,next_vertices=[],[],[]\n",
    "    frontier.append(initial)\n",
    "    path.append(initial)\n",
    "    explored=set()\n",
    "    j=1\n",
    "    while frontier:\n",
    "        node=frontier.pop()\n",
    "        #print(node)\n",
    "        if node==goal:\n",
    "            print(\"Goal found\")\n",
    "            return path\n",
    "        else:\n",
    "            next_vertices=Neighbours(graph,node)\n",
    "            v=next_vertices[0]\n",
    "            for i in range(1,len(next_vertices)):\n",
    "                if h[next_vertices[i]]<=h[v]:\n",
    "                    v=next_vertices[i]\n",
    "            if v not in explored:\n",
    "                frontier.append(v)\n",
    "                path.append(v)\n",
    "                explored.add(v)\n",
    "        print(f\"At step {j} :\")\n",
    "        print(\"Frontier is :\",frontier)\n",
    "        print(\"Explored is :\",explored)\n",
    "        j+=1\n",
    "    return (\"Goal not found\")\n",
    "\n",
    "            \n",
    "   \n",
    "    \n",
    "start='0'\n",
    "goal='9'\n",
    "Gfs(start,goal,graph,h)\n",
    " \n",
    "#Node(child).cost\n",
    "\n"
   ]
  },
  {
   "cell_type": "code",
   "execution_count": null,
   "id": "b1bd70ba",
   "metadata": {},
   "outputs": [],
   "source": []
  }
 ],
 "metadata": {
  "kernelspec": {
   "display_name": "Python 3 (ipykernel)",
   "language": "python",
   "name": "python3"
  },
  "language_info": {
   "codemirror_mode": {
    "name": "ipython",
    "version": 3
   },
   "file_extension": ".py",
   "mimetype": "text/x-python",
   "name": "python",
   "nbconvert_exporter": "python",
   "pygments_lexer": "ipython3",
   "version": "3.11.3"
  }
 },
 "nbformat": 4,
 "nbformat_minor": 5
}
