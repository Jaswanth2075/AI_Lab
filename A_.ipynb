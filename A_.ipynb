{
  "nbformat": 4,
  "nbformat_minor": 0,
  "metadata": {
    "colab": {
      "provenance": []
    },
    "kernelspec": {
      "name": "python3",
      "display_name": "Python 3"
    },
    "language_info": {
      "name": "python"
    }
  },
  "cells": [
    {
      "cell_type": "code",
      "execution_count": 16,
      "metadata": {
        "id": "jCVFNlYyub54",
        "colab": {
          "base_uri": "https://localhost:8080/"
        },
        "outputId": "fc7a5798-fa42-4fae-be05-2a65fe6004f5"
      },
      "outputs": [
        {
          "output_type": "stream",
          "name": "stdout",
          "text": [
            "frontier : {'A'}\n",
            "explored ; {'D', 'B', 'C'}\n",
            "frontier : {'A', 'B'}\n",
            "explored ; {'D', 'C'}\n",
            "frontier : {'A', 'B', 'C'}\n",
            "explored ; {'D'}\n",
            "Path found: ['A', 'B', 'D']\n"
          ]
        },
        {
          "output_type": "execute_result",
          "data": {
            "text/plain": [
              "['A', 'B', 'D']"
            ]
          },
          "metadata": {},
          "execution_count": 16
        }
      ],
      "source": [
        "from collections import deque\n",
        "\n",
        "class Graph:\n",
        "\n",
        "    def __init__(self, graph):\n",
        "        self.graph = graph\n",
        "\n",
        "    def get_neighbors(self, v):\n",
        "        return self.graph[v]\n",
        "\n",
        "    def h(self, n):\n",
        "        H = {\n",
        "            'A': 1,\n",
        "            'B': 1,\n",
        "            'C': 1,\n",
        "            'D': 1\n",
        "        }\n",
        "\n",
        "        return H[n]\n",
        "\n",
        "    def a_star_algorithm(self, start_node, stop_node):\n",
        "        # open_list is a list of nodes which have been visited\n",
        "        # closed_list is a list of nodes which have been visited\n",
        "        open_list = set([start_node])\n",
        "        closed_list = set([])\n",
        "\n",
        "        # g contains current distances from start_node to all other nodes\n",
        "        g = {}\n",
        "\n",
        "        g[start_node] = 0\n",
        "\n",
        "        # parents contains an adjacency map of all nodes\n",
        "        parents = {}\n",
        "        parents[start_node] = start_node\n",
        "\n",
        "        while len(open_list) > 0:\n",
        "            n = None\n",
        "\n",
        "            # find a node with the lowest value of f() - evaluation function\n",
        "            for v in open_list:\n",
        "                if n == None or g[v] + self.h(v) < g[n] + self.h(n):\n",
        "                    n = v;\n",
        "\n",
        "            if n == None:\n",
        "                print('Path does not exist!')\n",
        "                return None\n",
        "\n",
        "            # if the current node is the stop_node\n",
        "            # then we begin reconstructin the path from it to the start_node\n",
        "            if n == stop_node:\n",
        "                path = []\n",
        "\n",
        "                while parents[n] != n:\n",
        "                    path.append(n)\n",
        "                    n = parents[n]\n",
        "\n",
        "                path.append(start_node)\n",
        "\n",
        "                path.reverse()\n",
        "\n",
        "                print('Path found: {}'.format(path))\n",
        "                return path\n",
        "\n",
        "            # for all neighbors of the current node do\n",
        "            for (m, weight) in self.get_neighbors(n):\n",
        "                # if the current node isn't in both open_list and closed_list\n",
        "                # add it to open_list and note n as it's parent\n",
        "                if m not in open_list and m not in closed_list:\n",
        "                    open_list.add(m)\n",
        "                    parents[m] = n\n",
        "                    g[m] = g[n] + weight\n",
        "\n",
        "                # otherwise, check if it's quicker to first visit n, then m\n",
        "                # and if it is, update parent data and g data\n",
        "                # and if the node was in the closed_list, move it to open_list\n",
        "                else:\n",
        "                    if g[m] > g[n] + weight:\n",
        "                        g[m] = g[n] + weight\n",
        "                        parents[m] = n\n",
        "\n",
        "                        if m in closed_list:\n",
        "                            closed_list.remove(m)\n",
        "                            open_list.add(m)\n",
        "\n",
        "            # remove n from the open_list, and add it to closed_list\n",
        "            # because all of his neighbors were inspected\n",
        "            open_list.remove(n)\n",
        "            closed_list.add(n)\n",
        "            print(\"frontier :\", closed_list)\n",
        "            print(\"explored ;\", open_list)\n",
        "\n",
        "        print('Path does not exist!')\n",
        "        return None\n",
        "\n",
        "graph = {\n",
        "    'A': [('B', 1), ('C', 3), ('D', 7)],\n",
        "    'B': [('D', 5)],\n",
        "    'C': [('D', 12)]\n",
        "}\n",
        "graph1 = Graph(graph)\n",
        "graph1.a_star_algorithm('A', 'D')"
      ]
    }
  ]
}