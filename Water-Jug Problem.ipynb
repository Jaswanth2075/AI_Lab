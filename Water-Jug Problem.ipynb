{
 "cells": [
  {
   "cell_type": "code",
   "execution_count": 9,
   "id": "4dc4da44",
   "metadata": {},
   "outputs": [
    {
     "name": "stdout",
     "output_type": "stream",
     "text": [
      "enter capacity of jug15\n",
      "enter capacity of jug24\n",
      "Enter target3\n"
     ]
    }
   ],
   "source": [
    "class water:\n",
    "    def __init__(self , big , small , target):\n",
    "        self.big=big\n",
    "        self.small=small\n",
    "        self.target=target\n",
    "    def check(self , a,b):\n",
    "        if a>0 and b>0 :\n",
    "            return\n",
    "    def newstate(self,frontier , a, b):\n",
    "            while self.check(a , b):\n",
    "                frontier.append((a,b))\n",
    "    def filla(self , frontier , curr_path , a ,b):\n",
    "        self.newstate(frontier , big , b)\n",
    "    def fillb(self ,frontier , curr_path , a, b):\n",
    "        self.newstate(frontier , a , small)\n",
    "    def emptya(self , frontier , curr_path, a , b):\n",
    "        self.newstate(frontier , 0 ,b )\n",
    "    def emptyb(self,frontier ,curr_path , a ,b):\n",
    "        self.newstate(frontier , a ,0)\n",
    "    def transferab(self , frontier ,curr_path ,  a,b):\n",
    "        self.newstate(frontier , a-(small-b) , b)\n",
    "    def transferba(self , frontier ,curr_path , a ,b):\n",
    "        self.newstate(frontier , a , b-(big-a))\n",
    "    def func(self):\n",
    "        explored=set()\n",
    "        frontier=[(0,0,[])]\n",
    "        while frontier:\n",
    "            a,b,path=frontier.pop(0)\n",
    "            while (a,b) not in frontier and (a,b) not in explored:\n",
    "                explored.add((a,b))\n",
    "                curr_path = path+([a,b])\n",
    "                if a==target or b==target:\n",
    "                    print(\"Target acheived\")\n",
    "                    print(path+[(a,b)])\n",
    "                if a!= target and b!=target:\n",
    "                    self.filla(frontier , curr_path , a , b)\n",
    "                    self.fillb(frontier , curr_path ,a ,b)\n",
    "                    self.emptya(frontier , curr_path , a ,b)\n",
    "                    self.emptyb(frontier , curr_path , a ,b)\n",
    "                    self.transferab(frontier , curr_path , a, b)\n",
    "                    self.transferba(frontier , curr_path ,a ,b)\n",
    "                \n",
    "big=int(input(\"enter capacity of jug1\"))\n",
    "small= int(input(\"enter capacity of jug2\"))\n",
    "target= int(input(\"Enter target\"))\n",
    "water(big,small,target).func()"
   ]
  },
  {
   "cell_type": "code",
   "execution_count": null,
   "id": "f2c766c2",
   "metadata": {},
   "outputs": [],
   "source": []
  }
 ],
 "metadata": {
  "kernelspec": {
   "display_name": "Python 3 (ipykernel)",
   "language": "python",
   "name": "python3"
  },
  "language_info": {
   "codemirror_mode": {
    "name": "ipython",
    "version": 3
   },
   "file_extension": ".py",
   "mimetype": "text/x-python",
   "name": "python",
   "nbconvert_exporter": "python",
   "pygments_lexer": "ipython3",
   "version": "3.11.5"
  }
 },
 "nbformat": 4,
 "nbformat_minor": 5
}
