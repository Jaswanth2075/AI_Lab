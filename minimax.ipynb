{
 "cells": [
  {
   "cell_type": "code",
   "execution_count": 13,
   "id": "fc303112",
   "metadata": {},
   "outputs": [
    {
     "name": "stdout",
     "output_type": "stream",
     "text": [
      "The optimal value is 12\n"
     ]
    }
   ],
   "source": [
    "import math\n",
    "scores = [3, 5, 2, 9, 12, 5, 23, 23]\n",
    "treeDepth = math.log(len(scores),2)\n",
    "print(\"The optimal value is\", minimax(0,0,True,scores,treeDepth))"
   ]
  },
  {
   "cell_type": "code",
   "execution_count": 12,
   "id": "9f2bbdd4",
   "metadata": {},
   "outputs": [],
   "source": [
    "def minimax(curr_depth , node_index , maxTurn , scores , TreeDepth):\n",
    "    if curr_depth == TreeDepth:\n",
    "        return scores[node_index]\n",
    "    if maxTurn:\n",
    "        return max(minimax(curr_depth+1 , node_index*2 , False , scores , TreeDepth) ,\n",
    "                   minimax(curr_depth+1 , (node_index*2)+1 , False , scores , TreeDepth))\n",
    "    else:\n",
    "        return min(minimax(curr_depth+1 , node_index*2 , True , scores , TreeDepth) ,\n",
    "                   minimax(curr_depth+1 , (node_index*2)+1, True , scores , TreeDepth) )\n",
    "    "
   ]
  }
 ],
 "metadata": {
  "kernelspec": {
   "display_name": "Python 3 (ipykernel)",
   "language": "python",
   "name": "python3"
  },
  "language_info": {
   "codemirror_mode": {
    "name": "ipython",
    "version": 3
   },
   "file_extension": ".py",
   "mimetype": "text/x-python",
   "name": "python",
   "nbconvert_exporter": "python",
   "pygments_lexer": "ipython3",
   "version": "3.11.5"
  }
 },
 "nbformat": 4,
 "nbformat_minor": 5
}
